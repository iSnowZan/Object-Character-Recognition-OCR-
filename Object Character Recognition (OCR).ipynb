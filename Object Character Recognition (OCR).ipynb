{
 "cells": [
  {
   "cell_type": "markdown",
   "id": "daafd566",
   "metadata": {},
   "source": [
    "# Grips September 21\n",
    "\n",
    "## Computer Vision and IOT internship\n",
    "\n",
    "### Task 1 - Object Character Recognition\n",
    "\n",
    "### Author - Pujan Bose"
   ]
  },
  {
   "cell_type": "code",
   "execution_count": 4,
   "id": "e0b99ed3",
   "metadata": {},
   "outputs": [
    {
     "name": "stdout",
     "output_type": "stream",
     "text": [
      "Editing image for better OCR result..........\n",
      " \n",
      "\n",
      "\"People's lives don't end\n",
      "when they die. It ends\n",
      "when they lose faith.\"\n",
      "\n",
      "- Itachi Uchiha\n",
      "Naruto Shippuden\n",
      "\f",
      "\n"
     ]
    }
   ],
   "source": [
    "import pytesseract  ####reading string from image (OCR library)\n",
    "import  numpy as np ##numpy for shape\n",
    "import cv2   #Computer vision library\n",
    "import os    ##for remove image file which we edit during procedure\n",
    "pytesseract.pytesseract.tesseract_cmd='C:\\\\Program Files\\\\Tesseract-OCR\\\\tesseract.exe'\n",
    "###you need to install ocr and give path in program\n",
    "try:\n",
    "    image='ItachiQuote.jpg'\n",
    "    print('Editing image for better OCR result..........')\n",
    "    img = cv2.imread(image)  ###reading image\n",
    "    img = cv2.resize(img, None, fx=1.5, fy=1.5, interpolation=cv2.INTER_CUBIC)\n",
    "    kernel = np.ones((1, 1), np.uint8)\n",
    "    img = cv2.dilate(img, kernel, iterations=1)\n",
    "    img = cv2.erode(img, kernel, iterations=1)\n",
    "    new_image = 'edited' + '_' + image  ###new image which we save during procedure\n",
    "    cv2.imwrite(new_image, img)  ###Save a new edited image\n",
    "    read = pytesseract.image_to_string(new_image)  ####reading from new generated image\n",
    "    print(read)  ##print resuult\n",
    "\n",
    "except Exception as e:\n",
    "    print('please provide proper name of the image')\n",
    "    print(e)"
   ]
  },
  {
   "cell_type": "code",
   "execution_count": null,
   "id": "1afc9c8e",
   "metadata": {},
   "outputs": [],
   "source": []
  }
 ],
 "metadata": {
  "kernelspec": {
   "display_name": "Python 3",
   "language": "python",
   "name": "python3"
  },
  "language_info": {
   "codemirror_mode": {
    "name": "ipython",
    "version": 3
   },
   "file_extension": ".py",
   "mimetype": "text/x-python",
   "name": "python",
   "nbconvert_exporter": "python",
   "pygments_lexer": "ipython3",
   "version": "3.8.8"
  }
 },
 "nbformat": 4,
 "nbformat_minor": 5
}
